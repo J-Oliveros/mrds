{
 "cells": [
  {
   "cell_type": "code",
   "execution_count": 1,
   "metadata": {},
   "outputs": [],
   "source": [
    "import sys\n",
    "import pickle\n",
    "import numpy as np\n",
    "import boto3\n",
    "import tempfile"
   ]
  },
  {
   "cell_type": "code",
   "execution_count": null,
   "metadata": {},
   "outputs": [],
   "source": [
    "def load_csv_from_s3(s3, bucket, filepath, X_csv_file, y_csv_file):\n",
    "    X_key = filepath + X_csv_file\n",
    "    y_key = filepath + y_csv_file\n",
    "    tmp_path = '/tmp/'\n",
    "    X_tmp = tmp_path + X_csv_file\n",
    "    y_tmp = tmp_path + y_csv_file\n",
    "\n",
    "    s3.meta.client.download_file(bucket, X_key, X_tmp)\n",
    "    s3.meta.client.download_file(bucket, y_key, y_tmp)\n",
    "\n",
    "    X = np.loadtxt(X_tmp, delimiter=',')\n",
    "    y = np.loadtxt(y_tmp, delimiter=',')\n",
    "    return (X, y)"
   ]
  },
  {
   "cell_type": "code",
   "execution_count": null,
   "metadata": {},
   "outputs": [],
   "source": [
    "def main(event):\n",
    "    s3 = boto3.resource('s3')\n",
    "    # bucket = 'nb-scripts'\n",
    "    # model_key = 'models/commod_classifier.pkl'\n",
    "    # model_filename = 'commod_classifier.pkl'\n",
    "    # key_path = 'csv_data/'\n",
    "    # X_filepath = 'commod_X.csv'\n",
    "    # y_filepath = 'commod_labels.csv'\n",
    "    bucket = event['bucket']\n",
    "    model_key = event['model_key']\n",
    "    model_filename = event['model_filename']\n",
    "    key_path = event['key_path']\n",
    "    X_filepath = event['X_filepath']\n",
    "    y_filepath = event['y_filepath']\n",
    "    model = event['model']\n",
    "    X, y = load_csv_from_s3(s3, bucket, key_path, X_filepath, y_filepath)\n",
    "    # train\n",
    "    model.fit(X, y)\n",
    "    # save model to s3\n",
    "    with tempfile.TemporaryFile() as f:\n",
    "        pickle.dump(model, f)\n",
    "        f.seek(0)\n",
    "        s3.meta.client.upload_file(f, bucket, model_key)"
   ]
  },
  {
   "cell_type": "code",
   "execution_count": null,
   "metadata": {},
   "outputs": [],
   "source": [
    "if __name__ == '__main__':\n",
    "    main(sys.argv[1])"
   ]
  }
 ],
 "metadata": {
  "kernelspec": {
   "display_name": "Python 3.9.12 ('base')",
   "language": "python",
   "name": "python3"
  },
  "language_info": {
   "codemirror_mode": {
    "name": "ipython",
    "version": 3
   },
   "file_extension": ".py",
   "mimetype": "text/x-python",
   "name": "python",
   "nbconvert_exporter": "python",
   "pygments_lexer": "ipython3",
   "version": "3.9.12"
  },
  "orig_nbformat": 4,
  "vscode": {
   "interpreter": {
    "hash": "7fccb8f514a477f99873ab032707b5eaf5a5a0f45031ae1eed33da7f7f165ef4"
   }
  }
 },
 "nbformat": 4,
 "nbformat_minor": 2
}
