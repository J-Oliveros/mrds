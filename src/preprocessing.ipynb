{
 "cells": [
  {
   "cell_type": "code",
   "execution_count": 2,
   "metadata": {},
   "outputs": [],
   "source": [
    "import pandas as pd\n",
    "import numpy as np\n",
    "import boto3\n",
    "from sklearn.preprocessing import LabelEncoder\n",
    "from sklearn.preprocessing import MultiLabelBinarizer"
   ]
  },
  {
   "cell_type": "code",
   "execution_count": 3,
   "metadata": {},
   "outputs": [
    {
     "name": "stderr",
     "output_type": "stream",
     "text": [
      "/tmp/ipykernel_2121/2462994313.py:2: DtypeWarning: Columns (3,17,25,26,28,34,35,37,39,41,43,44) have mixed types. Specify dtype option on import or set low_memory=False.\n",
      "  mrds_csv = pd.read_csv('../data/mrds.csv')\n"
     ]
    }
   ],
   "source": [
    "s3 = boto3.resource('s3')\n",
    "mrds_csv = pd.read_csv('../data/mrds.csv')"
   ]
  },
  {
   "cell_type": "code",
   "execution_count": 4,
   "metadata": {},
   "outputs": [],
   "source": [
    "df =(\n",
    "    mrds_csv[['latitude','longitude','state','com_type','commod1','commod2','commod3']]\n",
    "    .query(\"state == 'Colorado'\")\n",
    ")"
   ]
  },
  {
   "cell_type": "code",
   "execution_count": 5,
   "metadata": {},
   "outputs": [],
   "source": [
    "def combine_cols(row):\n",
    "    arr =[]\n",
    "    if not pd.isna(row['commod1']):\n",
    "        arr.extend(str(row['commod1']).split('-'))\n",
    "    if not pd.isna(row['commod2']):\n",
    "        arr.extend(str(row['commod2']).split('-'))\n",
    "    if not pd.isna(row['commod3']):\n",
    "        arr.extend(str(row['commod3']).split('-'))\n",
    "    return arr"
   ]
  },
  {
   "cell_type": "code",
   "execution_count": 6,
   "metadata": {},
   "outputs": [],
   "source": [
    "commod_X = (\n",
    "    df[['latitude','longitude', 'com_type']]\n",
    "    .assign(cat_codes = pd.Categorical(df['com_type']).codes)\n",
    "    .drop(['com_type'], axis=1)\n",
    ")"
   ]
  },
  {
   "cell_type": "code",
   "execution_count": 7,
   "metadata": {},
   "outputs": [],
   "source": [
    "commod_array = df.apply(combine_cols,axis=1).values.tolist()\n",
    "commod_array = [[x.strip() for x in l] for l in commod_array]\n",
    "commod_mlb = MultiLabelBinarizer()\n",
    "commod_mlb_arr = commod_mlb.fit_transform(commod_array)\n",
    "commod_cols = commod_mlb.classes_\n",
    "commod_label_df = pd.DataFrame(commod_mlb_arr, columns=commod_cols)"
   ]
  },
  {
   "cell_type": "code",
   "execution_count": null,
   "metadata": {},
   "outputs": [],
   "source": [
    "commod_X.to_csv('../data/commod_X.csv', index=False)\n",
    "s3.meta.client.upload_file('../data/commod_X.csv', 'nb-scripts', 'csv_data/commod_X.csv')\n",
    "commod_label_df.to_csv('../data/commod_labels.csv', index=False)\n",
    "s3.meta.client.upload_file('../data/commod_labels.csv', 'nb-scripts', 'csv_data/commod_labels.csv')"
   ]
  }
 ],
 "metadata": {
  "kernelspec": {
   "display_name": "Python 3.9.12 ('base')",
   "language": "python",
   "name": "python3"
  },
  "language_info": {
   "codemirror_mode": {
    "name": "ipython",
    "version": 3
   },
   "file_extension": ".py",
   "mimetype": "text/x-python",
   "name": "python",
   "nbconvert_exporter": "python",
   "pygments_lexer": "ipython3",
   "version": "3.9.12"
  },
  "orig_nbformat": 4,
  "vscode": {
   "interpreter": {
    "hash": "7fccb8f514a477f99873ab032707b5eaf5a5a0f45031ae1eed33da7f7f165ef4"
   }
  }
 },
 "nbformat": 4,
 "nbformat_minor": 2
}
